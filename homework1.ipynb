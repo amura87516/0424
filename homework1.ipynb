{
 "cells": [
  {
   "cell_type": "code",
   "execution_count": null,
   "metadata": {},
   "outputs": [
    {
     "name": "stdout",
     "output_type": "stream",
     "text": [
      "輸入一個分數(0~100)70\n",
      "普普通通\n",
      "輸入一個分數(0~100)80\n",
      "太神拉\n",
      "輸入一個分數(0~100)10\n",
      "太廢了\n"
     ]
    }
   ],
   "source": [
    "while True:\n",
    "    x = int(input('輸入一個分數(0~100)'))\n",
    "    if x >= 80:\n",
    "        print('太神拉')\n",
    "    elif x < 60:\n",
    "        print('太廢了')\n",
    "    else:\n",
    "        print('普普通通')"
   ]
  },
  {
   "cell_type": "code",
   "execution_count": null,
   "metadata": {},
   "outputs": [],
   "source": []
  }
 ],
 "metadata": {
  "kernelspec": {
   "display_name": "Python 3",
   "language": "python",
   "name": "python3"
  },
  "language_info": {
   "codemirror_mode": {
    "name": "ipython",
    "version": 3
   },
   "file_extension": ".py",
   "mimetype": "text/x-python",
   "name": "python",
   "nbconvert_exporter": "python",
   "pygments_lexer": "ipython3",
   "version": "3.5.4"
  }
 },
 "nbformat": 4,
 "nbformat_minor": 2
}
