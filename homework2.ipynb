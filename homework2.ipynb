{
 "cells": [
  {
   "cell_type": "code",
   "execution_count": null,
   "metadata": {},
   "outputs": [
    {
     "name": "stdout",
     "output_type": "stream",
     "text": [
      "猜一個信運數字6\n",
      "猜錯了 繼續猜\n"
     ]
    }
   ],
   "source": [
    "while True:\n",
    "    x = input('猜一個信運數字')\n",
    "    if x =='q':\n",
    "        print('不完就滾啦')\n",
    "        break\n",
    "    elif x == '8':\n",
    "        print('猜對了')\n",
    "        break\n",
    "    else:\n",
    "        print('猜錯了 繼續猜')"
   ]
  },
  {
   "cell_type": "code",
   "execution_count": null,
   "metadata": {},
   "outputs": [],
   "source": []
  }
 ],
 "metadata": {
  "kernelspec": {
   "display_name": "Python 3",
   "language": "python",
   "name": "python3"
  },
  "language_info": {
   "codemirror_mode": {
    "name": "ipython",
    "version": 3
   },
   "file_extension": ".py",
   "mimetype": "text/x-python",
   "name": "python",
   "nbconvert_exporter": "python",
   "pygments_lexer": "ipython3",
   "version": "3.5.4"
  }
 },
 "nbformat": 4,
 "nbformat_minor": 2
}
